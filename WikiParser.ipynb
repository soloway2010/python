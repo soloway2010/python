{
 "cells": [
  {
   "cell_type": "code",
   "execution_count": 2,
   "metadata": {},
   "outputs": [],
   "source": [
    "import bz2"
   ]
  },
  {
   "cell_type": "code",
   "execution_count": 3,
   "metadata": {},
   "outputs": [],
   "source": [
    "file_name = \"wiki.xml.bz2\""
   ]
  },
  {
   "cell_type": "markdown",
   "metadata": {},
   "source": [
    "Парсит дамп вики, записывая в файл file_name статьи в следующем формате:\n",
    "- заголовок\n",
    "- текст статьи в одну строчку"
   ]
  },
  {
   "cell_type": "code",
   "execution_count": 5,
   "metadata": {},
   "outputs": [],
   "source": [
    "archive = bz2.BZ2File(file_name)\n",
    "text = open(\"text.txt\", mode=\"w\")\n",
    "\n",
    "flag = False\n",
    "for line in archive:\n",
    "    \n",
    "    if \"<text\" in line:\n",
    "        text.write(\"\\n\")\n",
    "        text.write(line.replace(\"\\n\", \"\").replace(\"<text\", \"\"))\n",
    "        flag = True\n",
    "    \n",
    "    elif \"text>\" in line:\n",
    "        text.write(line.replace(\"\\n\", \"\").replace(\"text>\", \"\"))\n",
    "        text.write(\"\\n\")\n",
    "        flag = False\n",
    "    \n",
    "    elif flag == True:\n",
    "        text.write(line.replace(\"\\n\", \"\"))\n",
    "    \n",
    "    elif \"<title>\" in line:\n",
    "        text.write(line.replace(\"\\n\", \"\").replace(\"<title>\", \"\").replace(\"</title>\", \"\"))\n",
    "\n",
    "text.close()"
   ]
  },
  {
   "cell_type": "code",
   "execution_count": null,
   "metadata": {},
   "outputs": [],
   "source": []
  }
 ],
 "metadata": {
  "kernelspec": {
   "display_name": "Python 2",
   "language": "python",
   "name": "python2"
  },
  "language_info": {
   "codemirror_mode": {
    "name": "ipython",
    "version": 2
   },
   "file_extension": ".py",
   "mimetype": "text/x-python",
   "name": "python",
   "nbconvert_exporter": "python",
   "pygments_lexer": "ipython2",
   "version": "2.7.15"
  }
 },
 "nbformat": 4,
 "nbformat_minor": 2
}
