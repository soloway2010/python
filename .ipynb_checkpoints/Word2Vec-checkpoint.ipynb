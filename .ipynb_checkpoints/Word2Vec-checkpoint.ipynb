{
 "cells": [
  {
   "cell_type": "markdown",
   "metadata": {},
   "source": [
    "Ссылка на библиотеку\n",
    "https://radimrehurek.com/gensim/tutorial.html"
   ]
  },
  {
   "cell_type": "code",
   "execution_count": 2,
   "metadata": {},
   "outputs": [],
   "source": [
    "import gensim"
   ]
  },
  {
   "cell_type": "code",
   "execution_count": 2,
   "metadata": {},
   "outputs": [],
   "source": [
    "data_file = \"text.txt\""
   ]
  },
  {
   "cell_type": "markdown",
   "metadata": {},
   "source": [
    "Функция, превращающая текст в набор слов и очищающая его\n",
    "\n",
    "Берет только первые 100000 статей, иначе у меня зависает"
   ]
  },
  {
   "cell_type": "code",
   "execution_count": 3,
   "metadata": {},
   "outputs": [],
   "source": [
    "def read_input(input_file):\n",
    "    with open(input_file, \"r\") as f:\n",
    "        for i, line in enumerate(f):\n",
    "            \n",
    "            if i == 100000:\n",
    "                break\n",
    "            \n",
    "            yield gensim.utils.simple_preprocess(line)"
   ]
  },
  {
   "cell_type": "markdown",
   "metadata": {},
   "source": [
    "Прверащаем 100000 статей в массив слов"
   ]
  },
  {
   "cell_type": "code",
   "execution_count": 4,
   "metadata": {},
   "outputs": [],
   "source": [
    "documents = list (read_input (data_file))"
   ]
  },
  {
   "cell_type": "markdown",
   "metadata": {},
   "source": [
    "Создаем модель и обучаем ее на статьях"
   ]
  },
  {
   "cell_type": "code",
   "execution_count": 5,
   "metadata": {},
   "outputs": [
    {
     "data": {
      "text/plain": [
       "(146245657, 179039460)"
      ]
     },
     "execution_count": 5,
     "metadata": {},
     "output_type": "execute_result"
    }
   ],
   "source": [
    "model = gensim.models.Word2Vec(\n",
    "        documents,\n",
    "        size=150,\n",
    "        window=10,\n",
    "        min_count=2,\n",
    "        workers=10)\n",
    "\n",
    "model.train(documents, total_examples=len(documents), epochs=10)"
   ]
  },
  {
   "cell_type": "markdown",
   "metadata": {},
   "source": [
    "Первые 10 слов, похожих на \"июль\""
   ]
  },
  {
   "cell_type": "code",
   "execution_count": 5,
   "metadata": {},
   "outputs": [
    {
     "name": "stderr",
     "output_type": "stream",
     "text": [
      "/home/soloway2010/anaconda2/lib/python2.7/site-packages/ipykernel_launcher.py:2: DeprecationWarning: Call to deprecated `wv` (Attribute will be removed in 4.0.0, use self instead).\n",
      "  \n"
     ]
    },
    {
     "data": {
      "text/plain": [
       "[(u'august', 0.9336326122283936),\n",
       " (u'june', 0.9311188459396362),\n",
       " (u'september', 0.8910154104232788),\n",
       " (u'october', 0.8674108982086182),\n",
       " (u'november', 0.8502730131149292),\n",
       " (u'december', 0.8477672934532166),\n",
       " (u'april', 0.843306303024292),\n",
       " (u'january', 0.8203355073928833),\n",
       " (u'february', 0.8175829648971558),\n",
       " (u'march', 0.8056581020355225)]"
      ]
     },
     "execution_count": 5,
     "metadata": {},
     "output_type": "execute_result"
    }
   ],
   "source": [
    "wl = \"july\"\n",
    "model.wv.most_similar(positive=wl)"
   ]
  },
  {
   "cell_type": "markdown",
   "metadata": {},
   "source": [
    "Сохранение модели"
   ]
  },
  {
   "cell_type": "code",
   "execution_count": 8,
   "metadata": {},
   "outputs": [],
   "source": [
    "model.wv.save(\"model\")"
   ]
  },
  {
   "cell_type": "code",
   "execution_count": 3,
   "metadata": {},
   "outputs": [],
   "source": [
    "model = gensim.models.KeyedVectors.load(\"../data/model\")"
   ]
  },
  {
   "cell_type": "markdown",
   "metadata": {},
   "source": [
    "Получение векторного представления слова"
   ]
  },
  {
   "cell_type": "code",
   "execution_count": 6,
   "metadata": {},
   "outputs": [
    {
     "name": "stderr",
     "output_type": "stream",
     "text": [
      "/home/soloway2010/anaconda2/lib/python2.7/site-packages/ipykernel_launcher.py:1: DeprecationWarning: Call to deprecated `wv` (Attribute will be removed in 4.0.0, use self instead).\n",
      "  \"\"\"Entry point for launching an IPython kernel.\n"
     ]
    },
    {
     "data": {
      "text/plain": [
       "array([ 6.7019242e-01,  1.2771863e+00,  1.1155139e+00, -1.4437950e+00,\n",
       "       -1.5026373e+00, -1.6598710e+00, -3.4427545e+00, -2.7466103e-02,\n",
       "       -1.8234378e+00, -8.4949178e-01, -2.0260246e+00,  2.4481697e-01,\n",
       "        1.5735115e+00,  1.1105624e-01, -2.0172205e+00,  3.8201737e+00,\n",
       "       -3.3925102e+00, -1.2573278e+00, -1.6429540e+00,  2.6747758e+00,\n",
       "       -3.5936029e+00,  8.0358744e-01, -2.3123477e+00, -1.5519344e+00,\n",
       "        4.1830924e-01,  1.2934395e+00,  4.6360141e-01, -2.1038236e-01,\n",
       "        1.4355333e+00,  2.8072405e-01, -8.0493289e-01, -1.2569060e+00,\n",
       "       -1.3554157e+00,  1.4236842e-01,  3.4634796e-01,  4.4496808e-02,\n",
       "        1.1943574e-01, -1.4396423e+00,  3.6712134e-01, -3.1954610e+00,\n",
       "        1.1157156e+00,  1.0999963e+00,  2.9527670e-01,  1.6373218e+00,\n",
       "        1.4075875e+00, -3.9045712e-01,  1.5541495e+00,  4.6061939e-01,\n",
       "        3.7058502e-01,  8.8435608e-01,  3.4598694e+00,  2.7029252e+00,\n",
       "       -1.7116433e+00,  2.0201993e-01, -4.0780994e-01,  4.5492644e+00,\n",
       "       -1.0745132e+00,  4.3532768e-01, -1.6473197e+00,  1.2966073e+00,\n",
       "        1.8620070e+00, -2.4209845e+00,  1.1229331e+00,  3.2800221e+00,\n",
       "        1.6640142e+00, -2.9090111e+00,  3.1710947e+00, -3.8880590e-02,\n",
       "        5.7045072e-01, -7.0357692e-01, -8.9787102e-01, -1.6965497e+00,\n",
       "       -1.7918476e-01, -1.7186736e+00, -7.9376650e-01,  9.5024520e-01,\n",
       "       -1.9783208e-01, -1.1161444e+00, -2.8252043e-02, -1.8566134e+00,\n",
       "       -7.8481382e-01, -5.8910170e+00, -1.4331552e-01,  1.4089315e+00,\n",
       "        2.6898339e+00,  8.7152517e-01,  5.5226415e-01,  1.5884645e+00,\n",
       "        7.0262098e-01,  2.7704005e+00, -1.2208915e+00,  2.8972268e+00,\n",
       "        2.0427389e+00,  7.0578599e-01, -5.2044010e-01, -1.2190808e+00,\n",
       "        4.1540799e+00, -7.2108376e-01, -5.6440586e-01, -8.3678555e-01,\n",
       "        4.7561586e-01,  1.4438183e+00,  5.9450332e-02, -1.9316760e-01,\n",
       "        2.6714689e-01,  6.3864028e-01,  9.0296447e-01, -1.5978135e+00,\n",
       "        2.6013162e+00, -1.5268192e+00,  1.8798991e+00,  1.1086755e+00,\n",
       "        2.6312530e+00,  7.0322502e-01, -1.5397297e+00,  2.3521118e+00,\n",
       "        1.0341763e+00, -7.3704487e-01, -1.6855800e-01, -1.3566737e+00,\n",
       "       -2.2641907e+00,  2.5796645e+00, -1.1077945e+00, -3.0869877e-03,\n",
       "       -1.6912899e+00,  1.3006443e+00,  2.4752190e+00, -9.0157187e-01,\n",
       "       -2.4511745e+00,  1.7467926e+00,  1.8726963e+00, -4.9369714e-01,\n",
       "        2.5405855e+00, -2.9906960e+00, -2.0522821e+00, -2.5926399e-01,\n",
       "       -1.5156080e+00,  4.7172233e-01, -1.0175481e+00, -6.4146973e-02,\n",
       "        6.7141336e-01, -4.2597854e-01, -1.5786520e+00,  1.1242609e+00,\n",
       "       -1.2349613e+00, -8.0026573e-01, -6.6430211e-02, -4.6608367e+00,\n",
       "        2.0291331e+00,  3.1521075e+00], dtype=float32)"
      ]
     },
     "execution_count": 6,
     "metadata": {},
     "output_type": "execute_result"
    }
   ],
   "source": [
    "model.wv.get_vector(wl)"
   ]
  },
  {
   "cell_type": "code",
   "execution_count": null,
   "metadata": {},
   "outputs": [],
   "source": []
  }
 ],
 "metadata": {
  "kernelspec": {
   "display_name": "Python 2",
   "language": "python",
   "name": "python2"
  },
  "language_info": {
   "codemirror_mode": {
    "name": "ipython",
    "version": 2
   },
   "file_extension": ".py",
   "mimetype": "text/x-python",
   "name": "python",
   "nbconvert_exporter": "python",
   "pygments_lexer": "ipython2",
   "version": "2.7.15"
  }
 },
 "nbformat": 4,
 "nbformat_minor": 2
}
